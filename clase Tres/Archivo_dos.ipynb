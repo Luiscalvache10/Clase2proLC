{
 "cells": [
  {
   "cell_type": "code",
   "execution_count": 2,
   "metadata": {},
   "outputs": [
    {
     "name": "stdout",
     "output_type": "stream",
     "text": [
      "Hola mundo\n"
     ]
    }
   ],
   "source": [
    "_manejo = \"Hola mundo\"\n",
    "print(_manejo)"
   ]
  },
  {
   "cell_type": "markdown",
   "metadata": {},
   "source": [
    " \n"
   ]
  },
  {
   "cell_type": "code",
   "execution_count": 32,
   "metadata": {},
   "outputs": [
    {
     "name": "stdout",
     "output_type": "stream",
     "text": [
      "['a', 'b']\n"
     ]
    }
   ],
   "source": [
    "# #variable entera\n",
    "# variable_int = 12\n",
    "# Print(variable_int)\n",
    "# Orubt(\"seccion uno)\n",
    "#       \")\n",
    "my_string = \"thisStringsAwesometh\"\n",
    "s = 10 \n",
    "my_string.upper()\n",
    "my_string.lower()\n",
    "my_string.count(\"th\")\n",
    "my_string.replace(\"this\",\"those\")\n",
    "\n",
    "\n",
    "my_string_dos = \"texto dos\"\n",
    "\n",
    "#concatenar\n",
    "my_string + my_string_dos\n",
    "'me' in my_string\n",
    "\n",
    "lista = ['a','b',1,1.8]\n",
    "\n",
    "# print(type(lista[1:2]))\n",
    "print(lista[0:2])\n",
    "\n"
   ]
  }
 ],
 "metadata": {
  "kernelspec": {
   "display_name": "base",
   "language": "python",
   "name": "python3"
  },
  "language_info": {
   "codemirror_mode": {
    "name": "ipython",
    "version": 3
   },
   "file_extension": ".py",
   "mimetype": "text/x-python",
   "name": "python",
   "nbconvert_exporter": "python",
   "pygments_lexer": "ipython3",
   "version": "3.11.4"
  }
 },
 "nbformat": 4,
 "nbformat_minor": 2
}
